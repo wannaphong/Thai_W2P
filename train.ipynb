{
 "cells": [
  {
   "cell_type": "code",
   "execution_count": 1,
   "metadata": {},
   "outputs": [],
   "source": [
    "#!pip install distance nltk pythainlp"
   ]
  },
  {
   "cell_type": "code",
   "execution_count": 3,
   "metadata": {},
   "outputs": [],
   "source": [
    "!CUDA_VISIBLE_DEVICES=3 python3 train.py --name run >  l1.txt"
   ]
  },
  {
   "cell_type": "code",
   "execution_count": 5,
   "metadata": {},
   "outputs": [
    {
     "name": "stdout",
     "output_type": "stream",
     "text": [
      "มี วิ-ที ดึง ข้อ-มูน คำ สะ-กด จาก วิ-กิ พด-จะ-นา-นุ-กรม ไหม คฺรับ-ผม กำ-ลัง ต้อง-กาน ตฺรง กาน แบ่ง พะ-ยาง จาก วิ-กิ พด-จะ-นา-นุ-กรม พา-สา-ไท คฺรับ \r\n"
     ]
    }
   ],
   "source": [
    "!python3 g2p.py --text \"มีวิธีดึงข้อมูลคำสะกดจากวิกิพจนานุกรมไหมครับผมกำลังต้องการตรงการแบ่งพยางค์จากวิกิพจนานุกรมภาษาไทยครับ\""
   ]
  },
  {
   "cell_type": "code",
   "execution_count": 6,
   "metadata": {},
   "outputs": [
    {
     "name": "stdout",
     "output_type": "stream",
     "text": [
      "ชุม-ชน พู่ สน-ใจ กาน-ปฺระ-มวน-ผน พา-สา-ทำ-มะ-ชาด \r\n"
     ]
    }
   ],
   "source": [
    "!python3 g2p.py --text \"ชุมชนผู้สนใจการประมวลผลภาษาธรรมชาติ\""
   ]
  },
  {
   "cell_type": "code",
   "execution_count": 7,
   "metadata": {},
   "outputs": [
    {
     "name": "stdout",
     "output_type": "stream",
     "text": [
      "เป็น ไล-บฺรา-รี พา-สา ไพ ทอน สำ-หฺรับ ปฺระ-มวน-ผน พา-สา-ทำ-มะ-ชาด \r\n"
     ]
    }
   ],
   "source": [
    "!python3 g2p.py --text \"เป็นไลบรารีภาษาไพทอนสำหรับประมวลผลภาษาธรรมชาติ\""
   ]
  },
  {
   "cell_type": "code",
   "execution_count": 8,
   "metadata": {},
   "outputs": [
    {
     "name": "stdout",
     "output_type": "stream",
     "text": [
      "เป็น ไล-บฺรา-รี พา-สา ไพ ทอน สำ-หฺรับ ปฺระ-มวน-ผน พา-สา-ทำ-มะ-ชาด \r\n"
     ]
    }
   ],
   "source": [
    "!python3 g2p.py --text \"เป็นไลบรารีภาษาไพทอนสำหรับประมวลผลภาษาธรรมชาติ\""
   ]
  },
  {
   "cell_type": "code",
   "execution_count": 9,
   "metadata": {},
   "outputs": [
    {
     "name": "stdout",
     "output_type": "stream",
     "text": [
      "เอา กระ-ทง ที่ บัน-จุ ทูบ เทียน-ดอก ไม้-ไบ ย่า ชา ย่า หวาน ประ-ชา ไท \r\n"
     ]
    }
   ],
   "source": [
    "!python3 g2p.py --text \"เอากระทงที่บรรจุธูปเทียนดอกไม้ใบหญ้าชาหญ้าหวานประชาไท\""
   ]
  },
  {
   "cell_type": "code",
   "execution_count": 10,
   "metadata": {},
   "outputs": [
    {
     "name": "stdout",
     "output_type": "stream",
     "text": [
      "เอา กระ-ทง ที่ บัน-จุ ทูบ เทียน-ดอก ไม้-ไบ ย่า ชา ย่า หวาน ประ-ชา ไท \r\n"
     ]
    }
   ],
   "source": [
    "!python3 g2p.py --text \"เอากระทงที่บรรจุธูปเทียนดอกไม้ใบหญ้าชาหญ้าหวานประชาไท\""
   ]
  },
  {
   "cell_type": "code",
   "execution_count": 11,
   "metadata": {},
   "outputs": [
    {
     "name": "stdout",
     "output_type": "stream",
     "text": [
      "หฺย่าง-ไร \r\n"
     ]
    }
   ],
   "source": [
    "!python3 g2p.py --text \"อย่างไร\""
   ]
  },
  {
   "cell_type": "code",
   "execution_count": 12,
   "metadata": {},
   "outputs": [
    {
     "name": "stdout",
     "output_type": "stream",
     "text": [
      "หฺย่าง-ไร \r\n"
     ]
    }
   ],
   "source": [
    "!python3 g2p.py --text \"อย่างไร\""
   ]
  },
  {
   "cell_type": "code",
   "execution_count": 13,
   "metadata": {},
   "outputs": [
    {
     "name": "stdout",
     "output_type": "stream",
     "text": [
      "ยัง-ไง \r\n"
     ]
    }
   ],
   "source": [
    "!python3 g2p.py --text \"ยังไง\""
   ]
  },
  {
   "cell_type": "code",
   "execution_count": 14,
   "metadata": {},
   "outputs": [
    {
     "name": "stdout",
     "output_type": "stream",
     "text": [
      "ยัง-ไง \r\n"
     ]
    }
   ],
   "source": [
    "!python3 g2p.py --text \"ยังไง\""
   ]
  },
  {
   "cell_type": "code",
   "execution_count": 15,
   "metadata": {},
   "outputs": [
    {
     "name": "stdout",
     "output_type": "stream",
     "text": [
      "ออก-ลูก \r\n"
     ]
    }
   ],
   "source": [
    "!python3 g2p.py --text \"ออกลูก\""
   ]
  },
  {
   "cell_type": "code",
   "execution_count": 16,
   "metadata": {},
   "outputs": [
    {
     "name": "stdout",
     "output_type": "stream",
     "text": [
      "เกฺล้า-กฺระ-ผม \r\n"
     ]
    }
   ],
   "source": [
    "!python3 g2p.py --text \"เกล้ากระผม\""
   ]
  },
  {
   "cell_type": "code",
   "execution_count": 17,
   "metadata": {},
   "outputs": [
    {
     "name": "stdout",
     "output_type": "stream",
     "text": [
      "หฺยาก ปะ-ติ-รูบ ก่อน เลือก-ตั้ง พะ-ม่า ประ-เทด สะ-หะ-รัด ออ มา \r\n"
     ]
    }
   ],
   "source": [
    "!python3 g2p.py --text \"อยากปฏิรูปก่อนเลือกตั้งพม่าประเทศสหรัฐอมา\""
   ]
  },
  {
   "cell_type": "code",
   "execution_count": 18,
   "metadata": {},
   "outputs": [
    {
     "name": "stdout",
     "output_type": "stream",
     "text": [
      "หฺยาก ปะ-ติ-รูบ ก่อน เลือก-ตั้ง พะ-ม่า ประ-เทด สะ-หะ-รัด ออ มา \r\n"
     ]
    }
   ],
   "source": [
    "!python3 g2p.py --text \"อยากปฎิรูปก่อนเลือกตั้งพม่าประเทศสหรัฐอมา\""
   ]
  },
  {
   "cell_type": "code",
   "execution_count": 19,
   "metadata": {},
   "outputs": [
    {
     "name": "stdout",
     "output_type": "stream",
     "text": [
      "ผม ทำ โปฺร-แกฺรม-เมอ ฟะ-รี \r\n"
     ]
    }
   ],
   "source": [
    "!python3 g2p.py --text \"ผมทำโปรแกรมเมอร์ฟรี\""
   ]
  },
  {
   "cell_type": "code",
   "execution_count": 20,
   "metadata": {},
   "outputs": [
    {
     "name": "stdout",
     "output_type": "stream",
     "text": [
      "ผม เชื้อ-สาย อะ-เม-ริ-กา เป็น ประ-เทด เส-รี-พาบ \r\n"
     ]
    }
   ],
   "source": [
    "!python3 g2p.py --text \"ผมเชื้อสายอเมริกาเป็นประเทศเสรีภาพ\""
   ]
  },
  {
   "cell_type": "code",
   "execution_count": 21,
   "metadata": {},
   "outputs": [
    {
     "name": "stdout",
     "output_type": "stream",
     "text": [
      "ไว-รัด โค-วิด สิบ เก้า \r\n"
     ]
    }
   ],
   "source": [
    "!python3 g2p.py --text \"ไวรัสโควิดสิบเก้า\""
   ]
  },
  {
   "cell_type": "code",
   "execution_count": 22,
   "metadata": {},
   "outputs": [
    {
     "name": "stdout",
     "output_type": "stream",
     "text": [
      "อา-ทิด   สุ-ริ-ยะ วง กุน \r\n"
     ]
    }
   ],
   "source": [
    "!python3 g2p.py --text \"อาทิตย์ สุริยะวงศ์กุล\""
   ]
  },
  {
   "cell_type": "code",
   "execution_count": 23,
   "metadata": {},
   "outputs": [
    {
     "name": "stdout",
     "output_type": "stream",
     "text": [
      "นบ-พะ-รัด-ตะ-นา-ทา-ร \r\n"
     ]
    }
   ],
   "source": [
    "!python3 g2p.py --text \"นพรัตนราชธานี\" --wordcut n"
   ]
  },
  {
   "cell_type": "code",
   "execution_count": 24,
   "metadata": {},
   "outputs": [
    {
     "name": "stdout",
     "output_type": "stream",
     "text": [
      "กำ สา-ระ-บัน ทะ-หาน-บก \r\n"
     ]
    }
   ],
   "source": [
    "!python3 g2p.py --text \"กรมสารบรรณทหารบก\""
   ]
  },
  {
   "cell_type": "code",
   "execution_count": 25,
   "metadata": {},
   "outputs": [
    {
     "name": "stdout",
     "output_type": "stream",
     "text": [
      "โค-เปอ-นิ-เซียม \r\n"
     ]
    }
   ],
   "source": [
    "!python3 g2p.py --text โคเปอร์นิเซียม --wordcut n"
   ]
  },
  {
   "cell_type": "code",
   "execution_count": 26,
   "metadata": {},
   "outputs": [
    {
     "name": "stdout",
     "output_type": "stream",
     "text": [
      "กะ-ถิ-นัด-ถา-ระ-กำ \r\n"
     ]
    }
   ],
   "source": [
    "!python3 g2p.py --text กฐินัตถารกรรม"
   ]
  },
  {
   "cell_type": "code",
   "execution_count": 27,
   "metadata": {},
   "outputs": [
    {
     "name": "stdout",
     "output_type": "stream",
     "text": [
      "กะ-นิก-นัน \r\n"
     ]
    }
   ],
   "source": [
    "!python3 g2p.py --text กณิกนันต์"
   ]
  },
  {
   "cell_type": "code",
   "execution_count": 28,
   "metadata": {},
   "outputs": [
    {
     "name": "stdout",
     "output_type": "stream",
     "text": [
      "ฮา-เร็ม \r\n"
     ]
    }
   ],
   "source": [
    "!python3 g2p.py --text ฮาเร็ม"
   ]
  },
  {
   "cell_type": "code",
   "execution_count": 29,
   "metadata": {},
   "outputs": [
    {
     "name": "stdout",
     "output_type": "stream",
     "text": [
      "หะ-ยี \r\n"
     ]
    }
   ],
   "source": [
    "!python3 g2p.py --text ฮาจญ์"
   ]
  },
  {
   "cell_type": "code",
   "execution_count": 30,
   "metadata": {},
   "outputs": [
    {
     "name": "stdout",
     "output_type": "stream",
     "text": [
      "ทา-หะ \r\n"
     ]
    }
   ],
   "source": [
    "!python3 g2p.py --text ฑาหะ"
   ]
  },
  {
   "cell_type": "code",
   "execution_count": 31,
   "metadata": {},
   "outputs": [
    {
     "name": "stdout",
     "output_type": "stream",
     "text": [
      "ดัง-สะ \r\n"
     ]
    }
   ],
   "source": [
    "!python3 g2p.py --text ฑังส"
   ]
  },
  {
   "cell_type": "code",
   "execution_count": 32,
   "metadata": {},
   "outputs": [
    {
     "name": "stdout",
     "output_type": "stream",
     "text": [
      "พด-ชะ-ระ-ดน-ละ-ยา \r\n"
     ]
    }
   ],
   "source": [
    "!python3 g2p.py --text พจชรดลญา"
   ]
  },
  {
   "cell_type": "code",
   "execution_count": 33,
   "metadata": {},
   "outputs": [
    {
     "name": "stdout",
     "output_type": "stream",
     "text": [
      "กาน-ละ-โรก \r\n"
     ]
    }
   ],
   "source": [
    "!python3 g2p.py --text กาฬโรค"
   ]
  },
  {
   "cell_type": "code",
   "execution_count": 34,
   "metadata": {},
   "outputs": [
    {
     "name": "stdout",
     "output_type": "stream",
     "text": [
      "มา-ทะ \r\n"
     ]
    }
   ],
   "source": [
    "!python3 g2p.py --text มาทะ"
   ]
  },
  {
   "cell_type": "code",
   "execution_count": 35,
   "metadata": {},
   "outputs": [
    {
     "name": "stdout",
     "output_type": "stream",
     "text": [
      "มะ-นาว แตง-โม ส้ม หฺล่น \r\n"
     ]
    }
   ],
   "source": [
    "!python3 g2p.py --text มะนาวแตงโมส้มหล่น"
   ]
  },
  {
   "cell_type": "code",
   "execution_count": 36,
   "metadata": {},
   "outputs": [
    {
     "name": "stdout",
     "output_type": "stream",
     "text": [
      "จัน-โช-อา-ชา \r\n"
     ]
    }
   ],
   "source": [
    "!python3 g2p.py --text จันทร์โอชา --wordcut n"
   ]
  },
  {
   "cell_type": "code",
   "execution_count": 37,
   "metadata": {},
   "outputs": [
    {
     "name": "stdout",
     "output_type": "stream",
     "text": [
      "เคฺรือง-งาม \r\n"
     ]
    }
   ],
   "source": [
    "!python3 g2p.py --text \"เครือ งาม\" --wordcut n"
   ]
  },
  {
   "cell_type": "code",
   "execution_count": 38,
   "metadata": {},
   "outputs": [
    {
     "name": "stdout",
     "output_type": "stream",
     "text": [
      "วง-สุ-วัน \r\n"
     ]
    }
   ],
   "source": [
    "!python3 g2p.py --text \"วงษ์สุวรรณ\" --wordcut n"
   ]
  },
  {
   "cell_type": "code",
   "execution_count": 39,
   "metadata": {},
   "outputs": [
    {
     "name": "stdout",
     "output_type": "stream",
     "text": [
      "พัด-ทิ-ยะ-ไพ-บูน \r\n"
     ]
    }
   ],
   "source": [
    "!python3 g2p.py --text \"ภัททิยไพบูลย์\" --wordcut n"
   ]
  },
  {
   "cell_type": "code",
   "execution_count": 45,
   "metadata": {},
   "outputs": [
    {
     "name": "stdout",
     "output_type": "stream",
     "text": [
      "มะ-หา-วิด-ทะ-ยา-ไล-ข   วิด-ทะ-ยา-เขด หฺนอง-คาย \r\n"
     ]
    }
   ],
   "source": [
    "!python3 g2p.py --text \"มหาวิทยาลัยขอนแก่น วิทยาเขตหนองคาย\""
   ]
  },
  {
   "cell_type": "code",
   "execution_count": 43,
   "metadata": {},
   "outputs": [
    {
     "name": "stdout",
     "output_type": "stream",
     "text": [
      "จุ-ราน-ลง-กอน มะ-หา-วิด-ทะ-ยา-ไล \r\n"
     ]
    }
   ],
   "source": [
    "!python3 g2p.py --text \"จุฬาลงกรณ์มหาวิทยาลัย\""
   ]
  },
  {
   "cell_type": "code",
   "execution_count": 44,
   "metadata": {},
   "outputs": [
    {
     "name": "stdout",
     "output_type": "stream",
     "text": [
      "มะ-หา-วิด-ทะ-ยา-ไล-ก \r\n"
     ]
    }
   ],
   "source": [
    "!python3 g2p.py --text \"มหาวิทยาลัยเกษตรศาสตร์\""
   ]
  },
  {
   "cell_type": "code",
   "execution_count": 47,
   "metadata": {},
   "outputs": [
    {
     "name": "stdout",
     "output_type": "stream",
     "text": [
      "วัน-นะ-พง \r\n"
     ]
    }
   ],
   "source": [
    "!python3 g2p.py --text \"วรรณพงษ์\"  --wordcut n"
   ]
  },
  {
   "cell_type": "code",
   "execution_count": 48,
   "metadata": {},
   "outputs": [
    {
     "name": "stdout",
     "output_type": "stream",
     "text": [
      "จะ-รวย-พอน \r\n"
     ]
    }
   ],
   "source": [
    "!python3 g2p.py --text 'จรวยพร'  --wordcut n"
   ]
  },
  {
   "cell_type": "code",
   "execution_count": 49,
   "metadata": {},
   "outputs": [
    {
     "name": "stdout",
     "output_type": "stream",
     "text": [
      "จำ-ลอง-กูน \r\n"
     ]
    }
   ],
   "source": [
    "!python3 g2p.py --text 'จำลองกูล'  --wordcut n"
   ]
  },
  {
   "cell_type": "code",
   "execution_count": 59,
   "metadata": {},
   "outputs": [
    {
     "name": "stdout",
     "output_type": "stream",
     "text": [
      "ไอ้ โดม \r\n"
     ]
    }
   ],
   "source": [
    "!python3 g2p.py --text 'ไอ้โดม'"
   ]
  },
  {
   "cell_type": "code",
   "execution_count": null,
   "metadata": {},
   "outputs": [],
   "source": []
  }
 ],
 "metadata": {
  "kernelspec": {
   "display_name": "Python 3",
   "language": "python",
   "name": "python3"
  },
  "language_info": {
   "codemirror_mode": {
    "name": "ipython",
    "version": 3
   },
   "file_extension": ".py",
   "mimetype": "text/x-python",
   "name": "python",
   "nbconvert_exporter": "python",
   "pygments_lexer": "ipython3",
   "version": "3.8.5"
  }
 },
 "nbformat": 4,
 "nbformat_minor": 4
}
